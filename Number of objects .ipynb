{
 "cells": [
  {
   "cell_type": "code",
   "execution_count": 1,
   "metadata": {},
   "outputs": [],
   "source": [
    "import matplotlib.pyplot as plt\n",
    "import cv2\n",
    "import numpy as np\n",
    "actual = cv2.imread(r'C:\\Users\\Student\\Desktop\\Test_Images\\TestIMage.png')\n",
    "arr = cv2.cvtColor(actual, cv2.COLOR_BGR2GRAY)\n",
    "obj =0\n",
    "rows, columns = arr.shape"
   ]
  },
  {
   "cell_type": "code",
   "execution_count": 2,
   "metadata": {},
   "outputs": [],
   "source": [
    "i =0\n",
    "j =0\n",
    "x = []\n",
    "for k in range(rows):\n",
    "    for l in range(columns):\n",
    "        if(arr[k][l] != 255):\n",
    "            obj=obj+1\n",
    "            i =k\n",
    "            j = l\n",
    "            while True:   \n",
    "                arr[i][j]=255\n",
    "                if i-1>=0 and j-1>=0 and (arr[i-1][j-1] != 255):\n",
    "                    x.append([i-1,j-1])\n",
    "           \n",
    "                if i-1>=0 and (arr[i-1][j] != 255 ):\n",
    "                    x.append([i-1,j])\n",
    "       \n",
    "                if i-1>=0 and j+1<=columns-1 and (arr[i-1][j+1] != 255):\n",
    "                   x.append([i-1,j+1])    \n",
    "\n",
    "                if j+1<=columns-1 and (arr[i][j+1] != 255):\n",
    "                    x.append([i,j+1])\n",
    "        \n",
    "                if i+1<=rows-1 and  j+1<=columns-1 and (arr[i+1][j+1] != 255 ):\n",
    "                    x.append([i+1,j+1])\n",
    "        \n",
    "                if i+1<=rows-1 and (arr[i+1][j] != 255):\n",
    "                     x.append([i+1,j])\n",
    "        \n",
    "                if i+1<=rows-1 and j-1>=0 and (arr[i+1][j-1] != 255):\n",
    "                    x.append([i+1,j-1])\n",
    "        \n",
    "                if j-1>=0 and (arr[i][j-1] != 255 ):\n",
    "                    x.append([i,j-1])\n",
    "                \n",
    "                if len(x)!=0:\n",
    "                    x=np.unique(x, axis=0)\n",
    "                    x=x.tolist()\n",
    "                if len(x)==0:\n",
    "                    break\n",
    "                i,j = x.pop()\n",
    "            "
   ]
  },
  {
   "cell_type": "code",
   "execution_count": 3,
   "metadata": {},
   "outputs": [
    {
     "data": {
      "text/plain": [
       "4"
      ]
     },
     "execution_count": 3,
     "metadata": {},
     "output_type": "execute_result"
    }
   ],
   "source": [
    "obj"
   ]
  }
 ],
 "metadata": {
  "kernelspec": {
   "display_name": "Python 3",
   "language": "python",
   "name": "python3"
  },
  "language_info": {
   "codemirror_mode": {
    "name": "ipython",
    "version": 3
   },
   "file_extension": ".py",
   "mimetype": "text/x-python",
   "name": "python",
   "nbconvert_exporter": "python",
   "pygments_lexer": "ipython3",
   "version": "3.6.5"
  }
 },
 "nbformat": 4,
 "nbformat_minor": 2
}

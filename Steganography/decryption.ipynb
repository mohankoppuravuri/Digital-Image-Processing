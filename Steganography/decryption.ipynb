{
 "cells": [
  {
   "cell_type": "markdown",
   "metadata": {},
   "source": [
    "# Decryption of an encrypted image"
   ]
  },
  {
   "cell_type": "markdown",
   "metadata": {},
   "source": [
    "'encrypted.png' is already encrypted in previous Encryption code. l is the length of the mesage."
   ]
  },
  {
   "cell_type": "code",
   "execution_count": 16,
   "metadata": {},
   "outputs": [],
   "source": [
    "import bitarray\n",
    "import matplotlib.pyplot as plt\n",
    "import cv2\n",
    "import numpy as np\n",
    "actual = cv2.imread(r'C:\\Users\\Student\\Desktop\\Test_Images\\encrypted.png')\n",
    "arr = cv2.cvtColor(actual, cv2.COLOR_BGR2GRAY)\n",
    "l=6640\n",
    "\n"
   ]
  },
  {
   "cell_type": "code",
   "execution_count": 17,
   "metadata": {},
   "outputs": [],
   "source": [
    "def decryption(arry, l):\n",
    "    arr2=arry.copy()\n",
    "    rows, colm = arr2.shape\n",
    "    c=[]\n",
    "    for i in range(rows):\n",
    "        for j in range(colm):\n",
    "            if((colm*i +j) < l):\n",
    "                if(arr2[i][j]%2 == 1):\n",
    "                    c.append(True)\n",
    "                if(arr2[i][j]%2 == 0):\n",
    "                    c.append(False)  \n",
    "    print(bitarray.bitarray(c).tobytes().decode('utf-8'))\n"
   ]
  },
  {
   "cell_type": "code",
   "execution_count": 18,
   "metadata": {},
   "outputs": [
    {
     "name": "stdout",
     "output_type": "stream",
     "text": [
      "Exploring Image Binarization Techniques - The book focuses on an image processing technique known as binarization. It provides a comprehensive survey over existing binarization techniques for both document and graphic images. A number of evaluation techniques have been presented for quantitative comparison of different binarization methods. The book provides results obtained comparing a number of standard and widely used binarization algorithms using some standard evaluation metrics. The comparative results presented in tables and charts facilitates understanding the process. In addition to this, the book presents techniques for preparing a reference image which is very much important for quantitative evaluation of the binarization techniques. The results are produced taking image samples from standard image databases.\n"
     ]
    }
   ],
   "source": [
    "decryption(arr, l)"
   ]
  },
  {
   "cell_type": "code",
   "execution_count": null,
   "metadata": {},
   "outputs": [],
   "source": []
  }
 ],
 "metadata": {
  "kernelspec": {
   "display_name": "Python 3",
   "language": "python",
   "name": "python3"
  },
  "language_info": {
   "codemirror_mode": {
    "name": "ipython",
    "version": 3
   },
   "file_extension": ".py",
   "mimetype": "text/x-python",
   "name": "python",
   "nbconvert_exporter": "python",
   "pygments_lexer": "ipython3",
   "version": "3.6.5"
  }
 },
 "nbformat": 4,
 "nbformat_minor": 2
}
